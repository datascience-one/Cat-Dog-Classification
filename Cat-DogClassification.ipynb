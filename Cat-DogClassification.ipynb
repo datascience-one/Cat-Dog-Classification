{
 "cells": [
  {
   "cell_type": "code",
   "execution_count": 1,
   "metadata": {},
   "outputs": [
    {
     "name": "stderr",
     "output_type": "stream",
     "text": [
      "Using TensorFlow backend.\n"
     ]
    }
   ],
   "source": [
    "from keras.layers import Conv2D, MaxPooling2D, ZeroPadding2D\n",
    "from keras.layers import Dense, Activation, Dropout, Flatten\n",
    "from keras import optimizers\n",
    "from keras.models import Sequential\n",
    "from keras.preprocessing.image import ImageDataGenerator\n",
    "from keras.models import load_model\n",
    "import numpy as np \n",
    "import skimage.io as io\n",
    "import skimage.transform as trans\n",
    "from pylab import*\n",
    "import PIL"
   ]
  },
  {
   "cell_type": "code",
   "execution_count": 2,
   "metadata": {},
   "outputs": [],
   "source": [
    "!tar zxf data.tar.gz "
   ]
  },
  {
   "cell_type": "code",
   "execution_count": 3,
   "metadata": {},
   "outputs": [],
   "source": [
    "img_width = 150\n",
    "img_height = 150\n",
    "train_data_dir = 'data/train'\n",
    "valid_data_dir = 'data/validation'\n",
    "\n",
    "datagen = ImageDataGenerator(rescale = 1./255)"
   ]
  },
  {
   "cell_type": "code",
   "execution_count": 4,
   "metadata": {},
   "outputs": [
    {
     "name": "stdout",
     "output_type": "stream",
     "text": [
      "Found 780 images belonging to 2 classes.\n",
      "Found 84 images belonging to 2 classes.\n"
     ]
    }
   ],
   "source": [
    "train_generator = datagen.flow_from_directory(directory=train_data_dir,\n",
    "\t\t\t\t\t\t\t\t\t\t\t   target_size=(img_width,img_height),\n",
    "\t\t\t\t\t\t\t\t\t\t\t   classes=['dogs','cats'],\n",
    "\t\t\t\t\t\t\t\t\t\t\t   class_mode='binary',\n",
    "\t\t\t\t\t\t\t\t\t\t\t   batch_size=16)\n",
    "\n",
    "validation_generator = datagen.flow_from_directory(directory=valid_data_dir,\n",
    "\t\t\t\t\t\t\t\t\t\t\t   target_size=(img_width,img_height),\n",
    "\t\t\t\t\t\t\t\t\t\t\t   classes=['dogs','cats'],\n",
    "\t\t\t\t\t\t\t\t\t\t\t   class_mode='binary',\n",
    "\t\t\t\t\t\t\t\t\t\t\t   batch_size=32)"
   ]
  },
  {
   "cell_type": "code",
   "execution_count": 5,
   "metadata": {},
   "outputs": [],
   "source": [
    "model =Sequential()\n",
    "\n",
    "model.add(Conv2D(32,(3,3), input_shape=(img_width, img_height, 3)))\n",
    "model.add(Activation('relu'))\n",
    "model.add(MaxPooling2D(pool_size=(2,2)))\n",
    "\n",
    "model.add(Conv2D(32,(3,3)))\n",
    "model.add(Activation('relu'))\n",
    "model.add(MaxPooling2D(pool_size=(2,2)))\n",
    "\n",
    "model.add(Conv2D(64,(3,3)))\n",
    "model.add(Activation('relu'))\n",
    "model.add(MaxPooling2D(pool_size=(2,2)))\n",
    "\n",
    "model.add(Flatten())\n",
    "model.add(Dense(64))\n",
    "model.add(Activation('relu'))\n",
    "model.add(Dropout(0.5))\n",
    "model.add(Dense(1))\n",
    "model.add(Activation('sigmoid'))\n",
    "\n",
    "model.compile(loss='binary_crossentropy',optimizer='rmsprop',metrics=['accuracy'])"
   ]
  },
  {
   "cell_type": "code",
   "execution_count": 6,
   "metadata": {},
   "outputs": [
    {
     "name": "stdout",
     "output_type": "stream",
     "text": [
      "Epoch 1/12\n",
      "64/64 [==============================] - 72s 1s/step - loss: 0.6943 - acc: 0.5427 - val_loss: 0.8361 - val_acc: 0.5027\n",
      "Epoch 2/12\n",
      "64/64 [==============================] - 69s 1s/step - loss: 0.6606 - acc: 0.6087 - val_loss: 0.6535 - val_acc: 0.5979\n",
      "Epoch 3/12\n",
      "64/64 [==============================] - 68s 1s/step - loss: 0.6095 - acc: 0.6934 - val_loss: 0.6577 - val_acc: 0.5704\n",
      "Epoch 4/12\n",
      "64/64 [==============================] - 69s 1s/step - loss: 0.5343 - acc: 0.7451 - val_loss: 0.7379 - val_acc: 0.5815\n",
      "Epoch 5/12\n",
      "64/64 [==============================] - 68s 1s/step - loss: 0.4715 - acc: 0.7907 - val_loss: 0.6747 - val_acc: 0.6315\n",
      "Epoch 6/12\n",
      "64/64 [==============================] - 68s 1s/step - loss: 0.3994 - acc: 0.8272 - val_loss: 0.8694 - val_acc: 0.6768\n",
      "Epoch 7/12\n",
      "64/64 [==============================] - 68s 1s/step - loss: 0.3673 - acc: 0.8372 - val_loss: 0.8471 - val_acc: 0.6178\n",
      "Epoch 8/12\n",
      "64/64 [==============================] - 68s 1s/step - loss: 0.2674 - acc: 0.8906 - val_loss: 0.8842 - val_acc: 0.6445\n",
      "Epoch 9/12\n",
      "64/64 [==============================] - 68s 1s/step - loss: 0.2140 - acc: 0.9118 - val_loss: 0.8991 - val_acc: 0.6312\n",
      "Epoch 10/12\n",
      "64/64 [==============================] - 68s 1s/step - loss: 0.1787 - acc: 0.9336 - val_loss: 1.3226 - val_acc: 0.6651\n",
      "Epoch 11/12\n",
      "64/64 [==============================] - 68s 1s/step - loss: 0.1450 - acc: 0.9372 - val_loss: 1.3833 - val_acc: 0.6671\n",
      "Epoch 12/12\n",
      "64/64 [==============================] - 69s 1s/step - loss: 0.1057 - acc: 0.9567 - val_loss: 1.6180 - val_acc: 0.5960\n"
     ]
    }
   ],
   "source": [
    "training = model.fit_generator(generator=train_generator, steps_per_epoch=1024 // 16,epochs=12,validation_data=validation_generator,validation_steps=832//16)"
   ]
  },
  {
   "cell_type": "code",
   "execution_count": 12,
   "metadata": {},
   "outputs": [],
   "source": [
    "image=imread('./data/TestImages/cat.1.jpg')"
   ]
  },
  {
   "cell_type": "code",
   "execution_count": 13,
   "metadata": {},
   "outputs": [],
   "source": [
    "im=trans.resize(image,(150,150))\n",
    "img=np.reshape(im,(1,)+im.shape)"
   ]
  },
  {
   "cell_type": "code",
   "execution_count": 15,
   "metadata": {},
   "outputs": [
    {
     "data": {
      "image/jpeg": "[encoded data removed]",
      "text/plain": [
       "<IPython.core.display.Image object>"
      ]
     },
     "metadata": {},
     "output_type": "display_data"
    }
   ],
   "source": [
    "from IPython.display import Image, display\n",
    "display(Image('./data/TestImages/cat.1.jpg'))"
   ]
  },
  {
   "cell_type": "code",
   "execution_count": 16,
   "metadata": {},
   "outputs": [
    {
     "name": "stdout",
     "output_type": "stream",
     "text": [
      "cat\n"
     ]
    }
   ],
   "source": [
    "out=model.predict_classes(img)\n",
    "if out[0]==0:\n",
    "  print('Dog')\n",
    "else:\n",
    "  print('cat')"
   ]
  },
  {
   "cell_type": "code",
   "execution_count": null,
   "metadata": {},
   "outputs": [],
   "source": []
  },
  {
   "cell_type": "code",
   "execution_count": null,
   "metadata": {},
   "outputs": [],
   "source": []
  }
 ],
 "metadata": {
  "kernelspec": {
   "display_name": "Python 3",
   "language": "python",
   "name": "python3"
  },
  "language_info": {
   "codemirror_mode": {
    "name": "ipython",
    "version": 3
   },
   "file_extension": ".py",
   "mimetype": "text/x-python",
   "name": "python",
   "nbconvert_exporter": "python",
   "pygments_lexer": "ipython3",
   "version": "3.5.2"
  }
 },
 "nbformat": 4,
 "nbformat_minor": 2
}
